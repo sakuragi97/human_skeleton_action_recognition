{
 "cells": [
  {
   "cell_type": "code",
   "execution_count": 1,
   "metadata": {},
   "outputs": [],
   "source": [
    "import numpy as np\n",
    "import pickle\n",
    "\n",
    "# Specify the file path of the pickle file\n",
    "file_path = \"Dataset/ntu60_3danno.pkl\"\n",
    "\n",
    "# Load the data from the pickle file\n",
    "with open(file_path, \"rb\") as f:\n",
    "    data = pickle.load(f)\n"
   ]
  },
  {
   "cell_type": "code",
   "execution_count": 2,
   "metadata": {},
   "outputs": [
    {
     "name": "stdout",
     "output_type": "stream",
     "text": [
      "1.12.1\n",
      "True\n"
     ]
    }
   ],
   "source": [
    "import torch\n",
    "\n",
    "print(torch.__version__)\n",
    "print(torch.cuda.is_available())"
   ]
  },
  {
   "cell_type": "code",
   "execution_count": 3,
   "metadata": {},
   "outputs": [
    {
     "name": "stdout",
     "output_type": "stream",
     "text": [
      "Dataset is a dictionary which has two fields: ['split', 'annotations']\n",
      "'split' is a dictionary with values : ['xsub_train', 'xsub_val', 'xset_train', 'xset_val', 'xview_train', 'xview_val']\n",
      "\n",
      "'xsub_train' size: 40091 -- 'xsub_val' size: 16487\n",
      "'xset_train' size: 54468 -- 'xset_val' size: 59477\n",
      "'xview_train' size: 37646 -- 'xview_val' size: 18932\n",
      "\n",
      "Samples from Split/xsub_train :\n",
      "['S001C001P001R001A001', 'S001C001P001R001A002', 'S001C001P001R001A003', 'S001C001P001R001A004', 'S001C001P001R001A005']\n",
      "Samples from Split/xsub_train :\n",
      "['S001C002P001R001A001', 'S001C002P001R001A002', 'S001C002P001R001A003', 'S001C002P001R001A004', 'S001C002P001R001A005']\n"
     ]
    }
   ],
   "source": [
    "print(f\"Dataset is a dictionary which has two fields: {list(data.keys())}\")\n",
    "print(f\"'split' is a dictionary with values : {list(data['split'].keys())}\\n\")\n",
    "\n",
    "print(f\"'xsub_train' size: {len(data['split']['xsub_train'])} -- 'xsub_val' size: {len(data['split']['xsub_val'])}\")\n",
    "print(f\"'xset_train' size: {len(data['split']['xset_train'])} -- 'xset_val' size: {len(data['split']['xset_val'])}\")\n",
    "print(f\"'xview_train' size: {len(data['split']['xview_train'])} -- 'xview_val' size: {len(data['split']['xview_val'])}\")\n",
    "\n",
    "print(f\"\\nSamples from Split/xsub_train :\\n{data['split']['xsub_train'][:5]}\")\n",
    "print(f\"Samples from Split/xsub_train :\\n{data['split']['xview_train'][:5]}\")\n"
   ]
  },
  {
   "cell_type": "code",
   "execution_count": 4,
   "metadata": {},
   "outputs": [
    {
     "name": "stdout",
     "output_type": "stream",
     "text": [
      "'annotations' is a list which each element is a dictionary which contains:\n",
      "['frame_dir', 'label', 'keypoint', 'total_frames']\n",
      "Annotations size: 56578\n",
      "\n",
      "'frame_dir' (str): The identifier of the corresponding video. - sample: S001C001P001R001A001\n",
      "'total_frames' (int): The number of frames in this video. - sample: 103\n",
      "'label' (int): The action label. - sample: 0\n",
      "'keypoint' (np.ndarray), with shape [M x T x V x C]): The keypoint annotation. M: number of persons; T: number of frames,\n",
      "\t   V: number of keypoints, C: number of dimensions for keypoint coordinates. - sample shape: (1, 103, 25, 3)\n"
     ]
    }
   ],
   "source": [
    "print(f\"'annotations' is a list which each element is a dictionary which contains:\\n{list(data['annotations'][0].keys())}\")\n",
    "print(f\"Annotations size: {len(data['annotations'])}\\n\")\n",
    "print(f\"'frame_dir' (str): The identifier of the corresponding video. - sample: {data['annotations'][0]['frame_dir']}\")\n",
    "print(f\"'total_frames' (int): The number of frames in this video. - sample: {data['annotations'][0]['total_frames']}\")\n",
    "print(f\"'label' (int): The action label. - sample: {data['annotations'][0]['label']}\")\n",
    "print(f\"'keypoint' (np.ndarray), with shape [M x T x V x C]): The keypoint annotation. M: number of persons; T: number of frames,\\n\\t   V: number of keypoints, C: number of dimensions for keypoint coordinates. - sample shape: {data['annotations'][0]['keypoint'].shape}\")\n"
   ]
  },
  {
   "cell_type": "code",
   "execution_count": 5,
   "metadata": {},
   "outputs": [
    {
     "name": "stdout",
     "output_type": "stream",
     "text": [
      "Sample from the first frame: \n"
     ]
    },
    {
     "data": {
      "text/plain": [
       "array([[ 0.2181,  0.1726,  3.785 ],\n",
       "       [ 0.2323,  0.4326,  3.715 ],\n",
       "       [ 0.2457,  0.6875,  3.635 ],\n",
       "       [ 0.2129,  0.808 ,  3.582 ],\n",
       "       [ 0.1109,  0.6113,  3.717 ],\n",
       "       [ 0.1009,  0.4287,  3.742 ],\n",
       "       [ 0.1187,  0.3428,  3.557 ],\n",
       "       [ 0.1165,  0.3174,  3.55  ],\n",
       "       [ 0.345 ,  0.574 ,  3.588 ],\n",
       "       [ 0.4211,  0.3848,  3.627 ],\n",
       "       [ 0.1919,  0.3188,  3.541 ],\n",
       "       [ 0.1299,  0.3171,  3.543 ],\n",
       "       [ 0.1627,  0.1746,  3.78  ],\n",
       "       [ 0.1975, -0.1361,  3.904 ],\n",
       "       [ 0.2443, -0.4202,  4.055 ],\n",
       "       [ 0.204 , -0.4763,  4.094 ],\n",
       "       [ 0.27  ,  0.1678,  3.73  ],\n",
       "       [ 0.3105, -0.1462,  3.818 ],\n",
       "       [ 0.3428, -0.433 ,  3.943 ],\n",
       "       [ 0.2952, -0.502 ,  3.969 ],\n",
       "       [ 0.2426,  0.6245,  3.656 ],\n",
       "       [ 0.12  ,  0.2957,  3.533 ],\n",
       "       [ 0.099 ,  0.346 ,  3.527 ],\n",
       "       [ 0.0871,  0.2988,  3.547 ],\n",
       "       [ 0.1268,  0.2815,  3.549 ]], dtype=float16)"
      ]
     },
     "execution_count": 5,
     "metadata": {},
     "output_type": "execute_result"
    }
   ],
   "source": [
    "print(f\"Sample from the first frame: \")\n",
    "data['annotations'][0]['keypoint'][0][0]"
   ]
  },
  {
   "cell_type": "code",
   "execution_count": 6,
   "metadata": {},
   "outputs": [
    {
     "name": "stdout",
     "output_type": "stream",
     "text": [
      "(28, 'make a phone call/answer phone')\n"
     ]
    }
   ],
   "source": [
    "action_classes = [\n",
    "    'drink water', 'eat meal/snack', 'brushing teeth', 'brushing hair', 'drop', 'pickup', 'throw', 'sitting down',\n",
    "    'standing up (from sitting position)', 'clapping', 'reading', 'writing', 'tear up paper', 'wear jacket',\n",
    "    'take off jacket', 'wear a shoe', 'take off a shoe', 'wear on glasses', 'take off glasses', 'put on a hat/cap',\n",
    "    'take off a hat/cap', 'cheer up', 'hand waving', 'kicking something', 'reach into pocket', 'hopping (one foot jumping)',\n",
    "    'jump up', 'make a phone call/answer phone', 'playing with phone/tablet', 'typing on a keyboard',\n",
    "    'pointing to something with finger', 'taking a selfie', 'check time (from watch)', 'rub two hands together',\n",
    "    'nod head/bow', 'shake head', 'wipe face', 'salute', 'put palms together', 'cross hands in front',\n",
    "    'sneeze/cough', 'staggering', 'falling', 'touch head (headache)', 'touch chest (stomachache/heart pain)',\n",
    "    'touch back (backache)', 'touch neck (neckache)', 'nausea or vomiting condition', 'use a fan (with hand or paper)/feeling warm',\n",
    "    'punching/slapping other person', 'kicking other person', 'pushing other person', 'pat on back of other person',\n",
    "    'point finger at the other person', 'hugging other person', 'giving something to other person', 'touch other person\\'s pocket',\n",
    "    'handshaking', 'walking towards each other', 'walking apart from each other'\n",
    "]\n",
    "\n",
    "idx_to_class = [\n",
    "    1, 2, 3, 4, 5, 6, 7, 8, 9, 10, 11, 12, 13, 14, 15, 16, 17, 18, 19, 20, 21, 22,\n",
    "    23, 24, 25, 26, 27, 28, 29, 30, 31, 32, 33, 34, 35, 36, 37, 38, 39, 40, 41, 42, 43,\n",
    "    44, 45, 46, 47, 48, 49, 50,  51, 52, 53, 54, 55, 56, 57, 58, 59, 60\n",
    "]\n",
    "random_idx = np.random.randint(1,len(idx_to_class)) \n",
    "print(f\"{(idx_to_class[random_idx], action_classes[random_idx])}\")"
   ]
  },
  {
   "cell_type": "code",
   "execution_count": 15,
   "metadata": {},
   "outputs": [
    {
     "data": {
      "image/png": "[encoded data removed]",
      "text/plain": [
       "<Figure size 2160x576 with 5 Axes>"
      ]
     },
     "metadata": {
      "needs_background": "light"
     },
     "output_type": "display_data"
    }
   ],
   "source": [
    "import matplotlib.pyplot as plt\n",
    "\n",
    "plt.figure(figsize=(30,8))\n",
    "plt_idx = 1\n",
    "num_frames = 50\n",
    "random_sample = np.random.randint(len(data['annotations'])) # erros: empty samples/various scale/! (e.g 43627/25039)\n",
    "for i in range(0,num_frames,int(num_frames/5)):\n",
    "    x = data['annotations'][random_sample]['keypoint'][0][i][:, 0]\n",
    "    y = data['annotations'][random_sample]['keypoint'][0][i][:, 1]\n",
    "    action_label = action_classes[data['annotations'][random_sample]['label']]\n",
    "    plt.subplot(1,5,plt_idx)\n",
    "    #plt.xlim(-0.4,0.8)\n",
    "    plt.xlim([-1, 1])\n",
    "    plt.ylim([-1, 1])\n",
    "    \n",
    "    plt.scatter(x, y)\n",
    "    plt.title(f\"Sample number: {random_sample}, total lengh: {data['annotations'][random_sample]['total_frames']} frame: {i}\\n label: {action_label}\")\n",
    "    plt_idx += 1\n"
   ]
  },
  {
   "cell_type": "code",
   "execution_count": 12,
   "metadata": {},
   "outputs": [
    {
     "data": {
      "image/png": "[encoded data removed]",
      "text/plain": [
       "<Figure size 432x720 with 1 Axes>"
      ]
     },
     "metadata": {
      "needs_background": "light"
     },
     "output_type": "display_data"
    }
   ],
   "source": [
    "# call the function to plot the skeleton\n",
    "plot_skeleton(x, y)\n"
   ]
  },
  {
   "cell_type": "code",
   "execution_count": 8,
   "metadata": {},
   "outputs": [],
   "source": [
    "import matplotlib.pyplot as plt\n",
    "\n",
    "def plot_skeleton(x_coords, y_coords):\n",
    "    # define connections between joints\n",
    "    connections = [\n",
    "    (0, 1), (1, 2), (2, 3), (3, 4),  # Spine\n",
    "    (0, 5), (5, 6), (6, 7), (7, 8),  # Left leg\n",
    "    (0, 9), (9, 10), (10, 11), (11, 12),  # Right leg\n",
    "    (0, 13), (13, 14), (14, 15), (15, 16),  # Left arm\n",
    "    (0, 17), (17, 18), (18, 19), (19, 20),  # Right arm\n",
    "    (1, 5), (2, 9), (5, 6), (9, 10), (6, 7), (10, 11), (7, 8), (11, 12),  # Spine and legs\n",
    "    (1, 2), (2, 17), (2, 13), (17, 18), (13, 14), (14, 15),  # Spine and arms\n",
    "    (1, 0), (2, 0), (17, 0), (13, 0), (5, 0), (9, 0),  # Spine and neck/head\n",
    "]\n",
    "\n",
    "    # plot the joints\n",
    "    plt.figure(figsize=(6,10))\n",
    "    plt.scatter(x_coords, y_coords, color='black')\n",
    "    \n",
    "    # plot the connections between the joints\n",
    "    for i,j in connections:\n",
    "        plt.plot([x_coords[i], x_coords[j]], [y_coords[i], y_coords[j]], color='black')\n",
    "    \n",
    "    # set plot limits\n",
    "    plt.xlim([-1, 1])\n",
    "    plt.ylim([-1, 1])\n",
    "    \n",
    "    # show plot\n",
    "    plt.show()"
   ]
  },
  {
   "attachments": {},
   "cell_type": "markdown",
   "metadata": {},
   "source": [
    "## Using `pyskl` tools"
   ]
  },
  {
   "cell_type": "code",
   "execution_count": 3,
   "metadata": {},
   "outputs": [
    {
     "ename": "ImportError",
     "evalue": "cannot import name 'load' from 'mmcv' (c:\\Users\\User\\.conda\\envs\\torch_1_12\\lib\\site-packages\\mmcv\\__init__.py)",
     "output_type": "error",
     "traceback": [
      "\u001b[1;31m---------------------------------------------------------------------------\u001b[0m",
      "\u001b[1;31mImportError\u001b[0m                               Traceback (most recent call last)",
      "\u001b[1;32m<ipython-input-3-5de9427b151e>\u001b[0m in \u001b[0;36m<module>\u001b[1;34m\u001b[0m\n\u001b[0;32m      5\u001b[0m \u001b[1;32mimport\u001b[0m \u001b[0mmoviepy\u001b[0m\u001b[1;33m.\u001b[0m\u001b[0meditor\u001b[0m \u001b[1;32mas\u001b[0m \u001b[0mmpy\u001b[0m\u001b[1;33m\u001b[0m\u001b[1;33m\u001b[0m\u001b[0m\n\u001b[0;32m      6\u001b[0m \u001b[1;32mimport\u001b[0m \u001b[0mnumpy\u001b[0m \u001b[1;32mas\u001b[0m \u001b[0mnp\u001b[0m\u001b[1;33m\u001b[0m\u001b[1;33m\u001b[0m\u001b[0m\n\u001b[1;32m----> 7\u001b[1;33m \u001b[1;32mfrom\u001b[0m \u001b[0mmmcv\u001b[0m \u001b[1;32mimport\u001b[0m \u001b[0mload\u001b[0m\u001b[1;33m\u001b[0m\u001b[1;33m\u001b[0m\u001b[0m\n\u001b[0m\u001b[0;32m      8\u001b[0m \u001b[1;32mfrom\u001b[0m \u001b[0mtqdm\u001b[0m \u001b[1;32mimport\u001b[0m \u001b[0mtqdm\u001b[0m\u001b[1;33m\u001b[0m\u001b[1;33m\u001b[0m\u001b[0m\n",
      "\u001b[1;31mImportError\u001b[0m: cannot import name 'load' from 'mmcv' (c:\\Users\\User\\.conda\\envs\\torch_1_12\\lib\\site-packages\\mmcv\\__init__.py)"
     ]
    }
   ],
   "source": [
    "import cv2\n",
    "import decord\n",
    "import io\n",
    "import matplotlib.pyplot as plt\n",
    "import moviepy.editor as mpy\n",
    "import numpy as np\n",
    "from mmcv import load\n",
    "from tqdm import tqdm"
   ]
  },
  {
   "cell_type": "code",
   "execution_count": null,
   "metadata": {},
   "outputs": [],
   "source": []
  }
 ],
 "metadata": {
  "kernelspec": {
   "display_name": "pyskl",
   "language": "python",
   "name": "python3"
  },
  "language_info": {
   "codemirror_mode": {
    "name": "ipython",
    "version": 3
   },
   "file_extension": ".py",
   "mimetype": "text/x-python",
   "name": "python",
   "nbconvert_exporter": "python",
   "pygments_lexer": "ipython3",
   "version": "3.7.16"
  },
  "orig_nbformat": 4
 },
 "nbformat": 4,
 "nbformat_minor": 2
}
