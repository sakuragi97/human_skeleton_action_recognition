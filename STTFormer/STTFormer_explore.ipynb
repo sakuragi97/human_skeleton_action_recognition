{
 "cells": [
  {
   "cell_type": "code",
   "execution_count": 2,
   "metadata": {},
   "outputs": [],
   "source": [
    "import os\n",
    "import pickle\n",
    "import random\n",
    "import numpy as np\n",
    "import torch\n",
    "import torch.nn as nn\n",
    "import torch.optim as optim\n",
    "from torch.utils.data import DataLoader"
   ]
  },
  {
   "cell_type": "code",
   "execution_count": 3,
   "metadata": {},
   "outputs": [],
   "source": [
    "action_classes = [\n",
    "    'drink water', 'eat meal/snack', 'brushing teeth', 'brushing hair', 'drop', 'pickup', 'throw', 'sitting down',\n",
    "    'standing up (from sitting position)', 'clapping', 'reading', 'writing', 'tear up paper', 'wear jacket',\n",
    "    'take off jacket', 'wear a shoe', 'take off a shoe', 'wear on glasses', 'take off glasses', 'put on a hat/cap',\n",
    "    'take off a hat/cap', 'cheer up', 'hand waving', 'kicking something', 'reach into pocket', 'hopping (one foot jumping)',\n",
    "    'jump up', 'make a phone call/answer phone', 'playing with phone/tablet', 'typing on a keyboard',\n",
    "    'pointing to something with finger', 'taking a selfie', 'check time (from watch)', 'rub two hands together',\n",
    "    'nod head/bow', 'shake head', 'wipe face', 'salute', 'put palms together', 'cross hands in front',\n",
    "    'sneeze/cough', 'staggering', 'falling', 'touch head (headache)', 'touch chest (stomachache/heart pain)',\n",
    "    'touch back (backache)', 'touch neck (neckache)', 'nausea or vomiting condition', 'use a fan (with hand or paper)/feeling warm',\n",
    "    'punching/slapping other person', 'kicking other person', 'pushing other person', 'pat on back of other person',\n",
    "    'point finger at the other person', 'hugging other person', 'giving something to other person', 'touch other person\\'s pocket',\n",
    "    'handshaking', 'walking towards each other', 'walking apart from each other'\n",
    "]\n",
    "\n",
    "idx_to_class = [\n",
    "    1, 2, 3, 4, 5, 6, 7, 8, 9, 10, 11, 12, 13, 14, 15, 16, 17, 18, 19, 20, 21, 22,\n",
    "    23, 24, 25, 26, 27, 28, 29, 30, 31, 32, 33, 34, 35, 36, 37, 38, 39, 40, 41, 42, 43,\n",
    "    44, 45, 46, 47, 48, 49, 50,  51, 52, 53, 54, 55, 56, 57, 58, 59, 60\n",
    "]\n"
   ]
  },
  {
   "cell_type": "code",
   "execution_count": 4,
   "metadata": {},
   "outputs": [],
   "source": [
    "npz_data = np.load(\"gendata/ntu/NTU60_XSub.npz\")"
   ]
  },
  {
   "cell_type": "code",
   "execution_count": 7,
   "metadata": {},
   "outputs": [
    {
     "data": {
      "text/plain": [
       "(40091, 300, 150)"
      ]
     },
     "execution_count": 7,
     "metadata": {},
     "output_type": "execute_result"
    }
   ],
   "source": [
    "npz_data['x_train'].shape"
   ]
  },
  {
   "cell_type": "code",
   "execution_count": 10,
   "metadata": {},
   "outputs": [],
   "source": [
    "sample = npz_data['x_train'][125][0]"
   ]
  },
  {
   "cell_type": "code",
   "execution_count": 11,
   "metadata": {},
   "outputs": [
    {
     "data": {
      "text/plain": [
       "array([-0.00622818, -0.23957929,  0.05726194,  0.        ,  0.        ,\n",
       "        0.        ,  0.0035157 ,  0.23497692, -0.06687403, -0.03570837,\n",
       "        0.3502768 , -0.07028604, -0.09130435,  0.18819311,  0.04849792,\n",
       "       -0.12863274,  0.26432902, -0.10384297, -0.12709065,  0.06682241,\n",
       "       -0.01319909, -0.10111414,  0.04479611, -0.02262998,  0.06933369,\n",
       "        0.11607769, -0.14855504,  0.07762758, -0.09723715, -0.14437199,\n",
       "        0.03635132, -0.2660842 , -0.14333296,  0.02381628, -0.331009  ,\n",
       "       -0.12316203, -0.04394345, -0.23080121,  0.0658021 , -0.04426221,\n",
       "       -0.5118348 ,  0.173949  ,  0.03374418, -0.86016655,  0.276345  ,\n",
       "        0.07666251, -0.9482026 ,  0.22097898,  0.03177993, -0.24770322,\n",
       "       -0.01119709,  0.07562105, -0.59380376,  0.04211998,  0.11242824,\n",
       "       -0.9170419 ,  0.1716001 ,  0.04644871, -0.96098554,  0.10144591,\n",
       "        0.00281848,  0.17672962, -0.04851198, -0.10606435,  0.00967331,\n",
       "       -0.03350687, -0.10905075,  0.05417441, -0.01404905,  0.00624943,\n",
       "       -0.39167368, -0.12833595,  0.03473865, -0.3543173 , -0.12058091,\n",
       "        0.        ,  0.        ,  0.        ,  0.        ,  0.        ,\n",
       "        0.        ,  0.        ,  0.        ,  0.        ,  0.        ,\n",
       "        0.        ,  0.        ,  0.        ,  0.        ,  0.        ,\n",
       "        0.        ,  0.        ,  0.        ,  0.        ,  0.        ,\n",
       "        0.        ,  0.        ,  0.        ,  0.        ,  0.        ,\n",
       "        0.        ,  0.        ,  0.        ,  0.        ,  0.        ,\n",
       "        0.        ,  0.        ,  0.        ,  0.        ,  0.        ,\n",
       "        0.        ,  0.        ,  0.        ,  0.        ,  0.        ,\n",
       "        0.        ,  0.        ,  0.        ,  0.        ,  0.        ,\n",
       "        0.        ,  0.        ,  0.        ,  0.        ,  0.        ,\n",
       "        0.        ,  0.        ,  0.        ,  0.        ,  0.        ,\n",
       "        0.        ,  0.        ,  0.        ,  0.        ,  0.        ,\n",
       "        0.        ,  0.        ,  0.        ,  0.        ,  0.        ,\n",
       "        0.        ,  0.        ,  0.        ,  0.        ,  0.        ,\n",
       "        0.        ,  0.        ,  0.        ,  0.        ,  0.        ],\n",
       "      dtype=float32)"
      ]
     },
     "execution_count": 11,
     "metadata": {},
     "output_type": "execute_result"
    }
   ],
   "source": [
    "sample"
   ]
  },
  {
   "cell_type": "code",
   "execution_count": 21,
   "metadata": {},
   "outputs": [],
   "source": [
    "data = npz_data['x_train']\n",
    "label = np.where(npz_data['y_train'] > 0)[1]"
   ]
  },
  {
   "cell_type": "code",
   "execution_count": 22,
   "metadata": {},
   "outputs": [
    {
     "data": {
      "text/plain": [
       "((40091, 300, 150), (40091,))"
      ]
     },
     "execution_count": 22,
     "metadata": {},
     "output_type": "execute_result"
    }
   ],
   "source": [
    "data.shape, label.shape"
   ]
  },
  {
   "cell_type": "code",
   "execution_count": 25,
   "metadata": {},
   "outputs": [
    {
     "data": {
      "text/plain": [
       "(40091, 300)"
      ]
     },
     "execution_count": 25,
     "metadata": {},
     "output_type": "execute_result"
    }
   ],
   "source": [
    "N, T, _ = data.shape\n",
    "N,T"
   ]
  },
  {
   "cell_type": "code",
   "execution_count": 34,
   "metadata": {},
   "outputs": [
    {
     "data": {
      "text/plain": [
       "(40091, 3, 300, 25, 2)"
      ]
     },
     "execution_count": 34,
     "metadata": {},
     "output_type": "execute_result"
    }
   ],
   "source": [
    "# N x C x T x V x M\n",
    "data_reshaped = data.reshape((N,T,2,25,3)).transpose(0, 4, 1, 3, 2)\n",
    "data_reshaped.shape"
   ]
  },
  {
   "cell_type": "code",
   "execution_count": 44,
   "metadata": {},
   "outputs": [],
   "source": [
    "from feeders.feeder_ntu import Feeder\n",
    "\n",
    "feeder_dataset = Feeder(data_path=\"gendata/ntu/NTU60_XSub.npz\",\n",
    "                        split='train',\n",
    "                        window_size=120,\n",
    "                        p_interval=[0.5, 1])"
   ]
  },
  {
   "cell_type": "code",
   "execution_count": 195,
   "metadata": {},
   "outputs": [],
   "source": [
    "feeder_test_dataset = Feeder(data_path=\"gendata/ntu/NTU60_XSub.npz\",\n",
    "                        split='test',\n",
    "                        window_size=120,\n",
    "                        p_interval=[0.5, 1])"
   ]
  },
  {
   "cell_type": "code",
   "execution_count": 52,
   "metadata": {},
   "outputs": [
    {
     "data": {
      "text/plain": [
       "((3, 120, 25, 2), 0, 180)"
      ]
     },
     "execution_count": 52,
     "metadata": {},
     "output_type": "execute_result"
    }
   ],
   "source": [
    "f_data, f_label, f_idx = feeder_dataset[180]\n",
    "f_data.shape, f_label, f_idx"
   ]
  },
  {
   "cell_type": "code",
   "execution_count": 91,
   "metadata": {},
   "outputs": [
    {
     "data": {
      "text/plain": [
       "array([[-0.01345021,  0.        ],\n",
       "       [ 0.        ,  0.0136762 ],\n",
       "       [-0.0193581 ,  0.        ],\n",
       "       [ 0.        , -0.12944001],\n",
       "       [-0.1180291 ,  0.        ],\n",
       "       [ 0.        ,  0.111351  ],\n",
       "       [ 0.18674909,  0.        ],\n",
       "       [ 0.        , -0.1150633 ],\n",
       "       [-0.06840201,  0.        ],\n",
       "       [ 0.        ,  0.00889769],\n",
       "       [-0.03880981,  0.        ],\n",
       "       [ 0.        ,  0.07632349],\n",
       "       [ 0.11270039,  0.        ],\n",
       "       [ 0.        ,  0.01053399],\n",
       "       [-0.13283941,  0.        ],\n",
       "       [ 0.        , -0.14576699],\n",
       "       [-0.1226586 ,  0.        ],\n",
       "       [ 0.        ,  0.00051617],\n",
       "       [ 0.01366942,  0.        ],\n",
       "       [ 0.        , -0.12019164],\n",
       "       [-0.13027559,  0.        ],\n",
       "       [ 0.        , -0.12409762],\n",
       "       [ 0.11129755,  0.        ],\n",
       "       [ 0.        , -0.04957451],\n",
       "       [-0.10912628,  0.        ]], dtype=float32)"
      ]
     },
     "execution_count": 91,
     "metadata": {},
     "output_type": "execute_result"
    }
   ],
   "source": [
    "C, T, V , M = feeder_dataset[0][0].shape\n",
    "feeder_reshaped_sample = feeder_dataset[0][0].reshape(M,T,V,C)\n",
    "feeder_reshaped_sample[0][0][:,:2]"
   ]
  },
  {
   "cell_type": "code",
   "execution_count": 222,
   "metadata": {},
   "outputs": [],
   "source": [
    "from typing import List, Dict\n",
    "import matplotlib.pyplot as plt\n",
    "\n",
    "def display_random_skeletons(dataset: torch.utils.data.Dataset,\n",
    "                          classes: List[str],\n",
    "                          n: int=10,\n",
    "                          display_shape: bool=True,\n",
    "                          seed: int=None):\n",
    "    if n > 10:\n",
    "        n = 10\n",
    "        display_shape = False\n",
    "        print(f\"For display, purposes, n shouldn't be larger than 10, setting to 10 and removing shape display.\")\n",
    "    \n",
    "    if seed:\n",
    "      random.seed(seed)\n",
    "\n",
    "    random_samples_idx = random.sample(range(len(dataset)), k=n)\n",
    "    # colors = ['g', 'g', 'g', 'g', 'b', 'b', 'b', 'b', 'r', 'r', 'r', 'r', 'c', 'c', 'c', 'c', 'm', 'm',\n",
    "    #                       'm', 'm', 'g', 'b', 'b', 'r', 'r']\n",
    "    \n",
    "    plt.figure(figsize=(32,8))\n",
    "\n",
    "    for i, targ_sample in enumerate(random_samples_idx):\n",
    "        \n",
    "        C, T, V, M = dataset[targ_sample][0].shape\n",
    "        targ_keypoint, targ_label = dataset[targ_sample][0].reshape(M,T,V,C), dataset[targ_sample][1]\n",
    "\n",
    "        random_frame_idx = random.choice(range(targ_keypoint[0].shape[0]))\n",
    "        # targ_keypoint, targ_label = dataset[targ_sample][keypoint], dataset[targ_sample]['label']\n",
    "\n",
    "        x = targ_keypoint[0][random_frame_idx][:,0]\n",
    "        y = targ_keypoint[0][random_frame_idx][:,1]\n",
    "\n",
    "        action_label = action_classes[targ_label]\n",
    "        plt.subplot(1,n,i+1)\n",
    "        plt.scatter(x, y, color='r')\n",
    "        plt.xlim([np.amin(targ_keypoint[0][:,:,0]), np.amax(targ_keypoint[0][:,:,0])])\n",
    "        plt.ylim([np.amin(targ_keypoint[0][:,:,1]), np.amax(targ_keypoint[0][:,:,1])])\n",
    "        # plt.xlim([-1, 1])\n",
    "        # plt.ylim([-1, 1])\n",
    "                \n",
    "        # plt.axis(False)\n",
    "        if classes:\n",
    "            title = f\"Class: {action_label}\"\n",
    "            if display_shape:\n",
    "                title = title + f\"\\nSample number: {targ_sample}, total lengh: {targ_keypoint[0].shape[0]} frame: {random_frame_idx}\"\n",
    "\n",
    "        plt.title(title)"
   ]
  },
  {
   "cell_type": "code",
   "execution_count": 112,
   "metadata": {},
   "outputs": [
    {
     "data": {
      "image/png": "[encoded data removed]",
      "text/plain": [
       "<Figure size 2304x576 with 5 Axes>"
      ]
     },
     "metadata": {
      "needs_background": "light"
     },
     "output_type": "display_data"
    }
   ],
   "source": [
    "display_random_skeletons(dataset=feeder_dataset,\n",
    "                         classes=action_classes,\n",
    "                         n=5,\n",
    "                         display_shape=True,\n",
    "                         seed=None)"
   ]
  },
  {
   "cell_type": "code",
   "execution_count": 218,
   "metadata": {},
   "outputs": [
    {
     "data": {
      "text/plain": [
       "Model(\n",
       "  (input_map): Sequential(\n",
       "    (0): Conv2d(3, 64, kernel_size=(1, 1), stride=(1, 1))\n",
       "    (1): BatchNorm2d(64, eps=1e-05, momentum=0.1, affine=True, track_running_stats=True)\n",
       "    (2): LeakyReLU(negative_slope=0.1)\n",
       "  )\n",
       "  (blocks): ModuleList(\n",
       "    (0): STA_Block(\n",
       "      (pes): Pos_Embed()\n",
       "      (to_qkvs): Conv2d(64, 96, kernel_size=(1, 1), stride=(1, 1))\n",
       "      (out_nets): Sequential(\n",
       "        (0): Conv2d(192, 64, kernel_size=(1, 5), stride=(1, 1), padding=(0, 2))\n",
       "        (1): BatchNorm2d(64, eps=1e-05, momentum=0.1, affine=True, track_running_stats=True)\n",
       "      )\n",
       "      (ff_net): Sequential(\n",
       "        (0): Conv2d(64, 64, kernel_size=(1, 1), stride=(1, 1))\n",
       "        (1): BatchNorm2d(64, eps=1e-05, momentum=0.1, affine=True, track_running_stats=True)\n",
       "      )\n",
       "      (out_nett): Sequential(\n",
       "        (0): Conv2d(64, 64, kernel_size=(3, 1), stride=(1, 1), padding=(1, 0))\n",
       "        (1): BatchNorm2d(64, eps=1e-05, momentum=0.1, affine=True, track_running_stats=True)\n",
       "      )\n",
       "      (tan): Tanh()\n",
       "      (relu): LeakyReLU(negative_slope=0.1)\n",
       "      (drop): Dropout(p=0, inplace=False)\n",
       "    )\n",
       "    (1): STA_Block(\n",
       "      (pes): Pos_Embed()\n",
       "      (to_qkvs): Conv2d(64, 96, kernel_size=(1, 1), stride=(1, 1))\n",
       "      (out_nets): Sequential(\n",
       "        (0): Conv2d(192, 64, kernel_size=(1, 5), stride=(1, 1), padding=(0, 2))\n",
       "        (1): BatchNorm2d(64, eps=1e-05, momentum=0.1, affine=True, track_running_stats=True)\n",
       "      )\n",
       "      (ff_net): Sequential(\n",
       "        (0): Conv2d(64, 64, kernel_size=(1, 1), stride=(1, 1))\n",
       "        (1): BatchNorm2d(64, eps=1e-05, momentum=0.1, affine=True, track_running_stats=True)\n",
       "      )\n",
       "      (out_nett): Sequential(\n",
       "        (0): Conv2d(64, 64, kernel_size=(3, 1), stride=(1, 1), padding=(1, 0))\n",
       "        (1): BatchNorm2d(64, eps=1e-05, momentum=0.1, affine=True, track_running_stats=True)\n",
       "      )\n",
       "      (tan): Tanh()\n",
       "      (relu): LeakyReLU(negative_slope=0.1)\n",
       "      (drop): Dropout(p=0, inplace=False)\n",
       "    )\n",
       "    (2): STA_Block(\n",
       "      (pes): Pos_Embed()\n",
       "      (to_qkvs): Conv2d(64, 192, kernel_size=(1, 1), stride=(1, 1))\n",
       "      (out_nets): Sequential(\n",
       "        (0): Conv2d(192, 128, kernel_size=(1, 5), stride=(1, 1), padding=(0, 2))\n",
       "        (1): BatchNorm2d(128, eps=1e-05, momentum=0.1, affine=True, track_running_stats=True)\n",
       "      )\n",
       "      (ff_net): Sequential(\n",
       "        (0): Conv2d(128, 128, kernel_size=(1, 1), stride=(1, 1))\n",
       "        (1): BatchNorm2d(128, eps=1e-05, momentum=0.1, affine=True, track_running_stats=True)\n",
       "      )\n",
       "      (out_nett): Sequential(\n",
       "        (0): Conv2d(128, 128, kernel_size=(3, 1), stride=(1, 1), padding=(1, 0))\n",
       "        (1): BatchNorm2d(128, eps=1e-05, momentum=0.1, affine=True, track_running_stats=True)\n",
       "      )\n",
       "      (ress): Sequential(\n",
       "        (0): Conv2d(64, 128, kernel_size=(1, 1), stride=(1, 1))\n",
       "        (1): BatchNorm2d(128, eps=1e-05, momentum=0.1, affine=True, track_running_stats=True)\n",
       "      )\n",
       "      (rest): Sequential(\n",
       "        (0): Conv2d(128, 128, kernel_size=(1, 1), stride=(1, 1))\n",
       "        (1): BatchNorm2d(128, eps=1e-05, momentum=0.1, affine=True, track_running_stats=True)\n",
       "      )\n",
       "      (tan): Tanh()\n",
       "      (relu): LeakyReLU(negative_slope=0.1)\n",
       "      (drop): Dropout(p=0, inplace=False)\n",
       "    )\n",
       "    (3): STA_Block(\n",
       "      (pes): Pos_Embed()\n",
       "      (to_qkvs): Conv2d(128, 192, kernel_size=(1, 1), stride=(1, 1))\n",
       "      (out_nets): Sequential(\n",
       "        (0): Conv2d(384, 128, kernel_size=(1, 5), stride=(1, 1), padding=(0, 2))\n",
       "        (1): BatchNorm2d(128, eps=1e-05, momentum=0.1, affine=True, track_running_stats=True)\n",
       "      )\n",
       "      (ff_net): Sequential(\n",
       "        (0): Conv2d(128, 128, kernel_size=(1, 1), stride=(1, 1))\n",
       "        (1): BatchNorm2d(128, eps=1e-05, momentum=0.1, affine=True, track_running_stats=True)\n",
       "      )\n",
       "      (out_nett): Sequential(\n",
       "        (0): Conv2d(128, 128, kernel_size=(3, 1), stride=(1, 1), padding=(1, 0))\n",
       "        (1): BatchNorm2d(128, eps=1e-05, momentum=0.1, affine=True, track_running_stats=True)\n",
       "      )\n",
       "      (tan): Tanh()\n",
       "      (relu): LeakyReLU(negative_slope=0.1)\n",
       "      (drop): Dropout(p=0, inplace=False)\n",
       "    )\n",
       "    (4): STA_Block(\n",
       "      (pes): Pos_Embed()\n",
       "      (to_qkvs): Conv2d(128, 384, kernel_size=(1, 1), stride=(1, 1))\n",
       "      (out_nets): Sequential(\n",
       "        (0): Conv2d(384, 256, kernel_size=(1, 5), stride=(1, 1), padding=(0, 2))\n",
       "        (1): BatchNorm2d(256, eps=1e-05, momentum=0.1, affine=True, track_running_stats=True)\n",
       "      )\n",
       "      (ff_net): Sequential(\n",
       "        (0): Conv2d(256, 256, kernel_size=(1, 1), stride=(1, 1))\n",
       "        (1): BatchNorm2d(256, eps=1e-05, momentum=0.1, affine=True, track_running_stats=True)\n",
       "      )\n",
       "      (out_nett): Sequential(\n",
       "        (0): Conv2d(256, 256, kernel_size=(3, 1), stride=(1, 1), padding=(1, 0))\n",
       "        (1): BatchNorm2d(256, eps=1e-05, momentum=0.1, affine=True, track_running_stats=True)\n",
       "      )\n",
       "      (ress): Sequential(\n",
       "        (0): Conv2d(128, 256, kernel_size=(1, 1), stride=(1, 1))\n",
       "        (1): BatchNorm2d(256, eps=1e-05, momentum=0.1, affine=True, track_running_stats=True)\n",
       "      )\n",
       "      (rest): Sequential(\n",
       "        (0): Conv2d(256, 256, kernel_size=(1, 1), stride=(1, 1))\n",
       "        (1): BatchNorm2d(256, eps=1e-05, momentum=0.1, affine=True, track_running_stats=True)\n",
       "      )\n",
       "      (tan): Tanh()\n",
       "      (relu): LeakyReLU(negative_slope=0.1)\n",
       "      (drop): Dropout(p=0, inplace=False)\n",
       "    )\n",
       "    (5): STA_Block(\n",
       "      (pes): Pos_Embed()\n",
       "      (to_qkvs): Conv2d(256, 384, kernel_size=(1, 1), stride=(1, 1))\n",
       "      (out_nets): Sequential(\n",
       "        (0): Conv2d(768, 256, kernel_size=(1, 5), stride=(1, 1), padding=(0, 2))\n",
       "        (1): BatchNorm2d(256, eps=1e-05, momentum=0.1, affine=True, track_running_stats=True)\n",
       "      )\n",
       "      (ff_net): Sequential(\n",
       "        (0): Conv2d(256, 256, kernel_size=(1, 1), stride=(1, 1))\n",
       "        (1): BatchNorm2d(256, eps=1e-05, momentum=0.1, affine=True, track_running_stats=True)\n",
       "      )\n",
       "      (out_nett): Sequential(\n",
       "        (0): Conv2d(256, 256, kernel_size=(3, 1), stride=(1, 1), padding=(1, 0))\n",
       "        (1): BatchNorm2d(256, eps=1e-05, momentum=0.1, affine=True, track_running_stats=True)\n",
       "      )\n",
       "      (tan): Tanh()\n",
       "      (relu): LeakyReLU(negative_slope=0.1)\n",
       "      (drop): Dropout(p=0, inplace=False)\n",
       "    )\n",
       "    (6): STA_Block(\n",
       "      (pes): Pos_Embed()\n",
       "      (to_qkvs): Conv2d(256, 384, kernel_size=(1, 1), stride=(1, 1))\n",
       "      (out_nets): Sequential(\n",
       "        (0): Conv2d(768, 256, kernel_size=(1, 5), stride=(1, 1), padding=(0, 2))\n",
       "        (1): BatchNorm2d(256, eps=1e-05, momentum=0.1, affine=True, track_running_stats=True)\n",
       "      )\n",
       "      (ff_net): Sequential(\n",
       "        (0): Conv2d(256, 256, kernel_size=(1, 1), stride=(1, 1))\n",
       "        (1): BatchNorm2d(256, eps=1e-05, momentum=0.1, affine=True, track_running_stats=True)\n",
       "      )\n",
       "      (out_nett): Sequential(\n",
       "        (0): Conv2d(256, 256, kernel_size=(3, 1), stride=(1, 1), padding=(1, 0))\n",
       "        (1): BatchNorm2d(256, eps=1e-05, momentum=0.1, affine=True, track_running_stats=True)\n",
       "      )\n",
       "      (tan): Tanh()\n",
       "      (relu): LeakyReLU(negative_slope=0.1)\n",
       "      (drop): Dropout(p=0, inplace=False)\n",
       "    )\n",
       "    (7): STA_Block(\n",
       "      (pes): Pos_Embed()\n",
       "      (to_qkvs): Conv2d(256, 384, kernel_size=(1, 1), stride=(1, 1))\n",
       "      (out_nets): Sequential(\n",
       "        (0): Conv2d(768, 256, kernel_size=(1, 5), stride=(1, 1), padding=(0, 2))\n",
       "        (1): BatchNorm2d(256, eps=1e-05, momentum=0.1, affine=True, track_running_stats=True)\n",
       "      )\n",
       "      (ff_net): Sequential(\n",
       "        (0): Conv2d(256, 256, kernel_size=(1, 1), stride=(1, 1))\n",
       "        (1): BatchNorm2d(256, eps=1e-05, momentum=0.1, affine=True, track_running_stats=True)\n",
       "      )\n",
       "      (out_nett): Sequential(\n",
       "        (0): Conv2d(256, 256, kernel_size=(3, 1), stride=(1, 1), padding=(1, 0))\n",
       "        (1): BatchNorm2d(256, eps=1e-05, momentum=0.1, affine=True, track_running_stats=True)\n",
       "      )\n",
       "      (tan): Tanh()\n",
       "      (relu): LeakyReLU(negative_slope=0.1)\n",
       "      (drop): Dropout(p=0, inplace=False)\n",
       "    )\n",
       "  )\n",
       "  (fc): Linear(in_features=256, out_features=60, bias=True)\n",
       "  (drop_out): Dropout(p=0, inplace=False)\n",
       "  (drop_out2d): Dropout2d(p=0, inplace=False)\n",
       ")"
      ]
     },
     "execution_count": 218,
     "metadata": {},
     "output_type": "execute_result"
    }
   ],
   "source": [
    "from model.sttformer import Model\n",
    "output_device = 1 # GPU device\n",
    "\n",
    "config = [[64,  64,  16], [64,  64,  16], \n",
    "           [64,  128, 32], [128, 128, 32],\n",
    "           [128, 256, 64], [256, 256, 64], \n",
    "           [256, 256, 64], [256, 256, 64]]\n",
    "\n",
    "sttformer_model = Model(len_parts=6,\n",
    "              num_frames=120,\n",
    "              num_joints=25,\n",
    "              num_classes=60,\n",
    "              num_heads=3,\n",
    "              num_channels=3,\n",
    "              num_persons=2,\n",
    "              kernel_size=[3,5],\n",
    "              use_pes=True,\n",
    "              config=config).cuda(output_device)\n",
    "\n",
    "sttformer_model\n"
   ]
  },
  {
   "cell_type": "code",
   "execution_count": 205,
   "metadata": {},
   "outputs": [
    {
     "data": {
      "text/plain": [
       "==========================================================================================\n",
       "Layer (type:depth-idx)                   Output Shape              Param #\n",
       "==========================================================================================\n",
       "Model                                    [64, 60]                  --\n",
       "├─Sequential: 1-1                        [128, 64, 20, 150]        --\n",
       "│    └─Conv2d: 2-1                       [128, 64, 20, 150]        256\n",
       "│    └─BatchNorm2d: 2-2                  [128, 64, 20, 150]        128\n",
       "│    └─LeakyReLU: 2-3                    [128, 64, 20, 150]        --\n",
       "├─ModuleList: 1-2                        --                        --\n",
       "│    └─STA_Block: 2-4                    [128, 64, 20, 150]        67,503\n",
       "│    │    └─Pos_Embed: 3-1               [1, 64, 20, 150]          --\n",
       "│    │    └─Conv2d: 3-2                  [128, 96, 20, 150]        6,240\n",
       "│    │    └─Tanh: 3-3                    [128, 3, 150, 150]        --\n",
       "│    │    └─Dropout: 3-4                 [128, 3, 150, 150]        --\n",
       "│    │    └─Sequential: 3-5              [128, 64, 20, 150]        61,632\n",
       "│    │    └─LeakyReLU: 3-6               [128, 64, 20, 150]        --\n",
       "│    │    └─Sequential: 3-7              [128, 64, 20, 150]        4,288\n",
       "│    │    └─LeakyReLU: 3-8               [128, 64, 20, 150]        --\n",
       "│    │    └─Sequential: 3-9              [128, 64, 20, 150]        12,480\n",
       "│    │    └─LeakyReLU: 3-10              [128, 64, 20, 150]        --\n",
       "│    └─STA_Block: 2-5                    [128, 64, 20, 150]        67,503\n",
       "│    │    └─Pos_Embed: 3-11              [1, 64, 20, 150]          --\n",
       "│    │    └─Conv2d: 3-12                 [128, 96, 20, 150]        6,240\n",
       "│    │    └─Tanh: 3-13                   [128, 3, 150, 150]        --\n",
       "│    │    └─Dropout: 3-14                [128, 3, 150, 150]        --\n",
       "│    │    └─Sequential: 3-15             [128, 64, 20, 150]        61,632\n",
       "│    │    └─LeakyReLU: 3-16              [128, 64, 20, 150]        --\n",
       "│    │    └─Sequential: 3-17             [128, 64, 20, 150]        4,288\n",
       "│    │    └─LeakyReLU: 3-18              [128, 64, 20, 150]        --\n",
       "│    │    └─Sequential: 3-19             [128, 64, 20, 150]        12,480\n",
       "│    │    └─LeakyReLU: 3-20              [128, 64, 20, 150]        --\n",
       "│    └─STA_Block: 2-6                    [128, 128, 20, 150]       67,503\n",
       "│    │    └─Pos_Embed: 3-21              [1, 64, 20, 150]          --\n",
       "│    │    └─Conv2d: 3-22                 [128, 192, 20, 150]       12,480\n",
       "│    │    └─Tanh: 3-23                   [128, 3, 150, 150]        --\n",
       "│    │    └─Dropout: 3-24                [128, 3, 150, 150]        --\n",
       "│    │    └─Sequential: 3-25             [128, 128, 20, 150]       8,576\n",
       "│    │    └─Sequential: 3-26             [128, 128, 20, 150]       123,264\n",
       "│    │    └─LeakyReLU: 3-27              [128, 128, 20, 150]       --\n",
       "│    │    └─Sequential: 3-28             [128, 128, 20, 150]       16,768\n",
       "│    │    └─LeakyReLU: 3-29              [128, 128, 20, 150]       --\n",
       "│    │    └─Sequential: 3-30             [128, 128, 20, 150]       49,536\n",
       "│    │    └─Sequential: 3-31             [128, 128, 20, 150]       16,768\n",
       "│    │    └─LeakyReLU: 3-32              [128, 128, 20, 150]       --\n",
       "│    └─STA_Block: 2-7                    [128, 128, 20, 150]       67,503\n",
       "│    │    └─Pos_Embed: 3-33              [1, 128, 20, 150]         --\n",
       "│    │    └─Conv2d: 3-34                 [128, 192, 20, 150]       24,768\n",
       "│    │    └─Tanh: 3-35                   [128, 3, 150, 150]        --\n",
       "│    │    └─Dropout: 3-36                [128, 3, 150, 150]        --\n",
       "│    │    └─Sequential: 3-37             [128, 128, 20, 150]       246,144\n",
       "│    │    └─LeakyReLU: 3-38              [128, 128, 20, 150]       --\n",
       "│    │    └─Sequential: 3-39             [128, 128, 20, 150]       16,768\n",
       "│    │    └─LeakyReLU: 3-40              [128, 128, 20, 150]       --\n",
       "│    │    └─Sequential: 3-41             [128, 128, 20, 150]       49,536\n",
       "│    │    └─LeakyReLU: 3-42              [128, 128, 20, 150]       --\n",
       "│    └─STA_Block: 2-8                    [128, 256, 20, 150]       67,503\n",
       "│    │    └─Pos_Embed: 3-43              [1, 128, 20, 150]         --\n",
       "│    │    └─Conv2d: 3-44                 [128, 384, 20, 150]       49,536\n",
       "│    │    └─Tanh: 3-45                   [128, 3, 150, 150]        --\n",
       "│    │    └─Dropout: 3-46                [128, 3, 150, 150]        --\n",
       "│    │    └─Sequential: 3-47             [128, 256, 20, 150]       33,536\n",
       "│    │    └─Sequential: 3-48             [128, 256, 20, 150]       492,288\n",
       "│    │    └─LeakyReLU: 3-49              [128, 256, 20, 150]       --\n",
       "│    │    └─Sequential: 3-50             [128, 256, 20, 150]       66,304\n",
       "│    │    └─LeakyReLU: 3-51              [128, 256, 20, 150]       --\n",
       "│    │    └─Sequential: 3-52             [128, 256, 20, 150]       197,376\n",
       "│    │    └─Sequential: 3-53             [128, 256, 20, 150]       66,304\n",
       "│    │    └─LeakyReLU: 3-54              [128, 256, 20, 150]       --\n",
       "│    └─STA_Block: 2-9                    [128, 256, 20, 150]       67,503\n",
       "│    │    └─Pos_Embed: 3-55              [1, 256, 20, 150]         --\n",
       "│    │    └─Conv2d: 3-56                 [128, 384, 20, 150]       98,688\n",
       "│    │    └─Tanh: 3-57                   [128, 3, 150, 150]        --\n",
       "│    │    └─Dropout: 3-58                [128, 3, 150, 150]        --\n",
       "│    │    └─Sequential: 3-59             [128, 256, 20, 150]       983,808\n",
       "│    │    └─LeakyReLU: 3-60              [128, 256, 20, 150]       --\n",
       "│    │    └─Sequential: 3-61             [128, 256, 20, 150]       66,304\n",
       "│    │    └─LeakyReLU: 3-62              [128, 256, 20, 150]       --\n",
       "│    │    └─Sequential: 3-63             [128, 256, 20, 150]       197,376\n",
       "│    │    └─LeakyReLU: 3-64              [128, 256, 20, 150]       --\n",
       "│    └─STA_Block: 2-10                   [128, 256, 20, 150]       67,503\n",
       "│    │    └─Pos_Embed: 3-65              [1, 256, 20, 150]         --\n",
       "│    │    └─Conv2d: 3-66                 [128, 384, 20, 150]       98,688\n",
       "│    │    └─Tanh: 3-67                   [128, 3, 150, 150]        --\n",
       "│    │    └─Dropout: 3-68                [128, 3, 150, 150]        --\n",
       "│    │    └─Sequential: 3-69             [128, 256, 20, 150]       983,808\n",
       "│    │    └─LeakyReLU: 3-70              [128, 256, 20, 150]       --\n",
       "│    │    └─Sequential: 3-71             [128, 256, 20, 150]       66,304\n",
       "│    │    └─LeakyReLU: 3-72              [128, 256, 20, 150]       --\n",
       "│    │    └─Sequential: 3-73             [128, 256, 20, 150]       197,376\n",
       "│    │    └─LeakyReLU: 3-74              [128, 256, 20, 150]       --\n",
       "│    └─STA_Block: 2-11                   [128, 256, 20, 150]       67,503\n",
       "│    │    └─Pos_Embed: 3-75              [1, 256, 20, 150]         --\n",
       "│    │    └─Conv2d: 3-76                 [128, 384, 20, 150]       98,688\n",
       "│    │    └─Tanh: 3-77                   [128, 3, 150, 150]        --\n",
       "│    │    └─Dropout: 3-78                [128, 3, 150, 150]        --\n",
       "│    │    └─Sequential: 3-79             [128, 256, 20, 150]       983,808\n",
       "│    │    └─LeakyReLU: 3-80              [128, 256, 20, 150]       --\n",
       "│    │    └─Sequential: 3-81             [128, 256, 20, 150]       66,304\n",
       "│    │    └─LeakyReLU: 3-82              [128, 256, 20, 150]       --\n",
       "│    │    └─Sequential: 3-83             [128, 256, 20, 150]       197,376\n",
       "│    │    └─LeakyReLU: 3-84              [128, 256, 20, 150]       --\n",
       "├─Dropout2d: 1-3                         [64, 6000, 256, 1]        --\n",
       "├─Dropout: 1-4                           [64, 256]                 --\n",
       "├─Linear: 1-5                            [64, 60]                  15,420\n",
       "==========================================================================================\n",
       "Total params: 6,233,588\n",
       "Trainable params: 6,233,588\n",
       "Non-trainable params: 0\n",
       "Total mult-adds (T): 2.18\n",
       "==========================================================================================\n",
       "Input size (MB): 4.61\n",
       "Forward/backward pass size (MB): 37552.16\n",
       "Params size (MB): 22.77\n",
       "Estimated Total Size (MB): 37579.54\n",
       "=========================================================================================="
      ]
     },
     "execution_count": 205,
     "metadata": {},
     "output_type": "execute_result"
    }
   ],
   "source": [
    "from torchinfo import summary\n",
    "summary(sttformer_model, input_size=[64, 3, 120, 25, 2])"
   ]
  },
  {
   "cell_type": "code",
   "execution_count": 130,
   "metadata": {},
   "outputs": [],
   "source": [
    "# Forward pass\n",
    "pred = sttformer_model(feeder_X)"
   ]
  },
  {
   "cell_type": "code",
   "execution_count": 229,
   "metadata": {},
   "outputs": [],
   "source": [
    "learning_rate = 0.1\n",
    "weight_decay = 0.0004\n",
    "loss_fn = nn.CrossEntropyLoss().cuda(output_device)\n",
    "optimizer = optim.SGD(sttformer_model.parameters(),\n",
    "                      lr=learning_rate,\n",
    "                      momentum=0.9,\n",
    "                      nesterov=True,\n",
    "                      weight_decay=weight_decay)"
   ]
  },
  {
   "cell_type": "code",
   "execution_count": 186,
   "metadata": {},
   "outputs": [],
   "source": [
    "warm_up_epoch = 5\n",
    "step = [60, 80]\n",
    "def adjust_learning_rate(epoch, learning_rate, warm_up_epoch, weight_decay, step, optimizer):\n",
    "    print(f\"adjust learning rate, using warm up, epoch: {warm_up_epoch}\")\n",
    "    if epoch < warm_up_epoch:\n",
    "        lr = learning_rate * (epoch + 1) / warm_up_epoch\n",
    "    else:\n",
    "        lr = learning_rate * ( weight_decay ** np.sum(epoch >= np.array(step)))\n",
    "    for param_group in optimizer.param_groups:\n",
    "        param_group['lr'] = lr\n",
    "    return lr\n"
   ]
  },
  {
   "cell_type": "code",
   "execution_count": 175,
   "metadata": {},
   "outputs": [],
   "source": [
    "device = 'cuda' if torch.cuda.is_available() else 'cpu'"
   ]
  },
  {
   "cell_type": "code",
   "execution_count": null,
   "metadata": {},
   "outputs": [],
   "source": [
    "learning_rate = adjust_learning_rate(epoch, learning_rate=learning_rate,\n",
    "                         warm_up_epoch=warm_up_epoch,\n",
    "                         weight_decay=weight_decay,\n",
    "                         step=step,\n",
    "                         optimizer=optimizer)\n"
   ]
  },
  {
   "cell_type": "code",
   "execution_count": 220,
   "metadata": {},
   "outputs": [],
   "source": [
    "### Training step\n",
    "def train_step(model: torch.nn.Module,\n",
    "               dataloader: torch.utils.data.DataLoader,\n",
    "               loss_fn: torch.nn.Module,\n",
    "               optimizer: torch.optim.Optimizer,\n",
    "               device=output_device):\n",
    "    train_loss, train_acc = 0, 0\n",
    "\n",
    "    model.train()\n",
    "    \n",
    "    for batch, (X, y, idx) in enumerate(dataloader):\n",
    "        with torch.no_grad():\n",
    "            X = X.float().cuda(output_device)\n",
    "            y = y.long().cuda(output_device)\n",
    "        \n",
    "        # Forward pass\n",
    "        y_pred = model(X)\n",
    "        loss = loss_fn(y_pred, y)\n",
    "        train_loss += loss.item()\n",
    "\n",
    "        # Backward\n",
    "        optimizer.zero_grad()\n",
    "        loss.backward()\n",
    "        optimizer.step()\n",
    "\n",
    "        y_pred_class = torch.argmax(torch.softmax(y_pred, dim=1), dim=1)\n",
    "        train_acc += (y_pred_class==y).sum().item()/len(y_pred)\n",
    "    \n",
    "    # Adjust metrics to get average los and accuracy \n",
    "    train_loss = train_loss / len(dataloader)\n",
    "    train_acc = train_acc / len(dataloader)\n",
    "    return train_loss, train_acc        "
   ]
  },
  {
   "cell_type": "code",
   "execution_count": 191,
   "metadata": {},
   "outputs": [],
   "source": [
    "def test_step(model: torch.nn.Module,\n",
    "              dataloader: torch.utils.data.DataLoader,\n",
    "              loss_fn: torch.nn.Module,\n",
    "              device=output_device):\n",
    "    model.eval()\n",
    "\n",
    "    test_loss, test_acc = 0, 0\n",
    "\n",
    "    with torch.inference_mode():\n",
    "        for batch, (X, y, idx) in enumerate(dataloader):\n",
    "            X, y = X.float().cuda(output_device), y.long().cuda(output_device)\n",
    "\n",
    "            y_pred = model(X)\n",
    "            loss = loss_fn(y_pred, y)\n",
    "            test_loss += loss.item()\n",
    "\n",
    "            y_pred_class = torch.argmax(torch.softmax(y_pred, dim=1), dim=1)\n",
    "            test_acc += (y_pred_class==y).sum().item()/len(y_pred)\n",
    "    \n",
    "    test_loss = test_loss / len(dataloader)\n",
    "    test_acc = test_acc / len(dataloader)\n",
    "    return test_loss, test_acc"
   ]
  },
  {
   "cell_type": "code",
   "execution_count": 193,
   "metadata": {},
   "outputs": [],
   "source": [
    "from tqdm.auto import tqdm\n",
    "\n",
    "def train(model: torch.nn.Module,\n",
    "          train_dataloader: torch.utils.data.DataLoader,\n",
    "          test_dataloader: torch.utils.data.DataLoader,\n",
    "          optimizer: torch.optim.Optimizer,\n",
    "          loss_fn: torch.nn.Module = nn.CrossEntropyLoss(),\n",
    "          epochs: int = 5,\n",
    "          device=output_device):\n",
    "    \n",
    "    results = {\"train_loss\": [],\n",
    "             \"train_acc\": [],\n",
    "             \"test_loss\": [],\n",
    "             \"test_acc\": []}\n",
    "  \n",
    "    for epoch in tqdm(range(epochs)):\n",
    "        train_loss, train_acc = train_step(model=model,\n",
    "                                        dataloader=train_dataloader,\n",
    "                                        loss_fn=loss_fn,\n",
    "                                        optimizer=optimizer,\n",
    "                                        device=device)\n",
    "        \n",
    "        test_loss, test_acc = test_step(model=model,\n",
    "                                        dataloader=test_dataloader,\n",
    "                                        loss_fn=loss_fn,\n",
    "                                        device=device)\n",
    "        print(f\"Epoch: {epoch} | Train loss: {train_loss:.4f} | Train acc: {train_acc:.4f} | Test loss: {test_loss:.4f} | Test acc: {test_acc:.4f}, lr: {learning_rate} \")\n",
    "\n",
    "        results[\"train_loss\"].append(train_loss)\n",
    "        results[\"train_acc\"].append(train_acc)\n",
    "        results[\"test_loss\"].append(test_loss)\n",
    "        results[\"test_acc\"].append(test_acc)\n",
    "    \n",
    "    return results"
   ]
  },
  {
   "cell_type": "code",
   "execution_count": 227,
   "metadata": {},
   "outputs": [
    {
     "data": {
      "text/plain": [
       "<torch.utils.data.dataloader.DataLoader at 0x7f4ee9d46d50>"
      ]
     },
     "execution_count": 227,
     "metadata": {},
     "output_type": "execute_result"
    }
   ],
   "source": [
    "feeder_dataloader = DataLoader(dataset=feeder_dataset,\n",
    "                               batch_size=64,\n",
    "                               shuffle=True,\n",
    "                               drop_last=True,\n",
    "                               num_workers=os.cpu_count())\n",
    "feeder_dataloader"
   ]
  },
  {
   "cell_type": "code",
   "execution_count": 228,
   "metadata": {},
   "outputs": [
    {
     "data": {
      "text/plain": [
       "<torch.utils.data.dataloader.DataLoader at 0x7f4ee0390790>"
      ]
     },
     "execution_count": 228,
     "metadata": {},
     "output_type": "execute_result"
    }
   ],
   "source": [
    "feeder_test_dataloader = DataLoader(dataset=feeder_test_dataset,\n",
    "                               batch_size=64,\n",
    "                               drop_last=True,\n",
    "                               num_workers=os.cpu_count())\n",
    "feeder_test_dataloader"
   ]
  },
  {
   "cell_type": "code",
   "execution_count": null,
   "metadata": {},
   "outputs": [],
   "source": [
    "for batch, (_,_,_) in enumerate(feeder_test_dataloader)"
   ]
  },
  {
   "cell_type": "code",
   "execution_count": 198,
   "metadata": {},
   "outputs": [],
   "source": [
    "feeder_X, feeder_y, feeder_idx = next(iter(feeder_test_dataloader))"
   ]
  },
  {
   "cell_type": "code",
   "execution_count": 230,
   "metadata": {},
   "outputs": [],
   "source": [
    "learning_rate = 0.1\n",
    "weight_decay = 0.0004\n",
    "loss_fn = nn.CrossEntropyLoss().cuda(output_device)\n",
    "optimizer = optim.SGD(sttformer_model.parameters(),\n",
    "                      lr=learning_rate,\n",
    "                      momentum=0.9,\n",
    "                      nesterov=True,\n",
    "                      weight_decay=weight_decay)"
   ]
  },
  {
   "cell_type": "code",
   "execution_count": 231,
   "metadata": {},
   "outputs": [
    {
     "data": {
      "application/vnd.jupyter.widget-view+json": {
       "model_id": "e3d1cf2f41ac4a6abe13c0c1ff3a3007",
       "version_major": 2,
       "version_minor": 0
      },
      "text/plain": [
       "  0%|          | 0/6 [00:00<?, ?it/s]"
      ]
     },
     "metadata": {},
     "output_type": "display_data"
    },
    {
     "name": "stdout",
     "output_type": "stream",
     "text": [
      "Epoch: 0 | Train loss: 2.6084 | Train acc: 0.2760 | Test loss: 1.9985 | Test acc: 0.4037, lr: 0.1 \n",
      "Epoch: 1 | Train loss: 1.6174 | Train acc: 0.5067 | Test loss: 1.9675 | Test acc: 0.4863, lr: 0.1 \n",
      "Epoch: 2 | Train loss: 1.3129 | Train acc: 0.5914 | Test loss: 1.6747 | Test acc: 0.5183, lr: 0.1 \n",
      "Epoch: 3 | Train loss: 1.1470 | Train acc: 0.6443 | Test loss: 1.4925 | Test acc: 0.5545, lr: 0.1 \n",
      "Epoch: 4 | Train loss: 1.0258 | Train acc: 0.6794 | Test loss: 1.3592 | Test acc: 0.6090, lr: 0.1 \n",
      "Epoch: 5 | Train loss: 0.9297 | Train acc: 0.7102 | Test loss: 1.1807 | Test acc: 0.6541, lr: 0.1 \n",
      "Total training time: 4160.488 seconds\n"
     ]
    }
   ],
   "source": [
    "from timeit import default_timer as timer\n",
    "torch.manual_seed(42)\n",
    "torch.cuda.manual_seed(42)\n",
    "\n",
    "num_epochs = 6\n",
    "\n",
    "start_time = timer()\n",
    "\n",
    "# Train model_0\n",
    "model_0_results = train(model=sttformer_model,\n",
    "                        train_dataloader=feeder_dataloader,\n",
    "                        test_dataloader=feeder_test_dataloader,\n",
    "                        optimizer=optimizer,\n",
    "                        loss_fn=loss_fn,\n",
    "                        epochs=num_epochs,\n",
    "                        device=output_device)\n",
    "\n",
    "# End the timer and print out how long it took\n",
    "end_time = timer()\n",
    "print(f\"Total training time: {end_time-start_time:.3f} seconds\")"
   ]
  },
  {
   "cell_type": "code",
   "execution_count": 223,
   "metadata": {},
   "outputs": [],
   "source": [
    "def plot_loss_curves(results: Dict[str, List[float]]):\n",
    "  \"\"\"\n",
    "  Plots training curves of a results doctionary.\n",
    "  \"\"\"\n",
    "  # Get the loss valurs of the results dict\n",
    "  loss = results[\"train_loss\"]\n",
    "  test_loss = results[\"test_loss\"]\n",
    "\n",
    "  # Get the accuracy values\n",
    "  accuracy = results[\"train_acc\"]\n",
    "  test_accuracy = results[\"test_acc\"]\n",
    "\n",
    "  # Figure out how many epochs there were\n",
    "  epochs = range(len(results[\"train_loss\"]))\n",
    "\n",
    "  # Setup a plot\n",
    "  plt.figure(figsize=(15,7))\n",
    "\n",
    "  # Plot the loss\n",
    "  plt.subplot(1, 2, 1)\n",
    "  plt.plot(epochs,loss, label=\"train_loss\")\n",
    "  plt.plot(epochs, test_loss, label=\"test_loss\")\n",
    "  plt.title(\"Loss\")\n",
    "  plt.xlabel(\"Epochs\")\n",
    "  plt.legend()\n",
    "\n",
    "  # Plot the accuracy\n",
    "  plt.subplot(1,2, 2)\n",
    "  plt.plot(epochs, accuracy, label=\"train_accuracy\")\n",
    "  plt.plot(epochs, test_accuracy, label=\"test_accuracy\")\n",
    "  plt.title(\"Accuracy\")\n",
    "  plt.xlabel(\"Epochs\")\n",
    "  plt.legend();"
   ]
  },
  {
   "cell_type": "code",
   "execution_count": 232,
   "metadata": {},
   "outputs": [
    {
     "name": "stdout",
     "output_type": "stream",
     "text": [
      "The history saving thread hit an unexpected error (OperationalError('disk I/O error')).History will not be written to the database.\n"
     ]
    },
    {
     "data": {
      "image/png": "[encoded data removed]",
      "text/plain": [
       "<Figure size 1080x504 with 2 Axes>"
      ]
     },
     "metadata": {
      "needs_background": "light"
     },
     "output_type": "display_data"
    }
   ],
   "source": [
    "plot_loss_curves(model_0_results)"
   ]
  },
  {
   "cell_type": "code",
   "execution_count": 1,
   "metadata": {},
   "outputs": [
    {
     "name": "stdout",
     "output_type": "stream",
     "text": [
      "Saving model to: models/sttformer_model_2023-05-02_00-08-26.pth\n"
     ]
    },
    {
     "ename": "NameError",
     "evalue": "name 'torch' is not defined",
     "output_type": "error",
     "traceback": [
      "\u001b[0;31m---------------------------------------------------------------------------\u001b[0m",
      "\u001b[0;31mNameError\u001b[0m                                 Traceback (most recent call last)",
      "\u001b[0;32m<ipython-input-1-6d50f4dd07bc>\u001b[0m in \u001b[0;36m<module>\u001b[0;34m\u001b[0m\n\u001b[1;32m     15\u001b[0m \u001b[0;31m# Save the model state dict\u001b[0m\u001b[0;34m\u001b[0m\u001b[0;34m\u001b[0m\u001b[0;34m\u001b[0m\u001b[0m\n\u001b[1;32m     16\u001b[0m \u001b[0mprint\u001b[0m\u001b[0;34m(\u001b[0m\u001b[0;34mf\"Saving model to: {MODEL_SAVE_PATH}\"\u001b[0m\u001b[0;34m)\u001b[0m\u001b[0;34m\u001b[0m\u001b[0;34m\u001b[0m\u001b[0m\n\u001b[0;32m---> 17\u001b[0;31m torch.save(obj=sttformer_model.state_dict(),\n\u001b[0m\u001b[1;32m     18\u001b[0m            f=MODEL_SAVE_PATH)\n",
      "\u001b[0;31mNameError\u001b[0m: name 'torch' is not defined"
     ]
    }
   ],
   "source": [
    "from pathlib import Path\n",
    "import datetime\n",
    "\n",
    "\n",
    "# Create model directory path\n",
    "MODEL_PATH = Path(\"models\")\n",
    "MODEL_PATH.mkdir(parents=True,\n",
    "                 exist_ok=True)\n",
    "\n",
    "timestamp = datetime.datetime.now().strftime(\"%Y-%m-%d_%H-%M-%S\")\n",
    "# Create model save\n",
    "MODEL_NAME = f\"sttformer_model_{timestamp}.pth\"\n",
    "MODEL_SAVE_PATH = MODEL_PATH / MODEL_NAME\n",
    "\n",
    "# Save the model state dict\n",
    "print(f\"Saving model to: {MODEL_SAVE_PATH}\")\n",
    "torch.save(obj=sttformer_model.state_dict(),\n",
    "           f=MODEL_SAVE_PATH)"
   ]
  },
  {
   "cell_type": "code",
   "execution_count": null,
   "metadata": {},
   "outputs": [],
   "source": []
  }
 ],
 "metadata": {
  "kernelspec": {
   "display_name": "torch_1_131",
   "language": "python",
   "name": "python3"
  },
  "language_info": {
   "codemirror_mode": {
    "name": "ipython",
    "version": 3
   },
   "file_extension": ".py",
   "mimetype": "text/x-python",
   "name": "python",
   "nbconvert_exporter": "python",
   "pygments_lexer": "ipython3",
   "version": "3.7.16"
  },
  "orig_nbformat": 4
 },
 "nbformat": 4,
 "nbformat_minor": 2
}
