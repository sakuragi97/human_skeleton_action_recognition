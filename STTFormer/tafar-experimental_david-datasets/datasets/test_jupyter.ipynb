{
 "cells": [
  {
   "cell_type": "code",
   "execution_count": 1,
   "metadata": {
    "execution": {
     "iopub.execute_input": "2023-05-03T19:44:41.079808Z",
     "iopub.status.busy": "2023-05-03T19:44:41.079134Z",
     "iopub.status.idle": "2023-05-03T19:44:41.103673Z",
     "shell.execute_reply": "2023-05-03T19:44:41.102089Z"
    }
   },
   "outputs": [
    {
     "name": "stdout",
     "output_type": "stream",
     "text": [
      "This Cell 1 is executed through terminal from a notebook..\n"
     ]
    }
   ],
   "source": [
    "print(\"This Cell 1 is executed through terminal from a notebook..\")"
   ]
  },
  {
   "cell_type": "code",
   "execution_count": 2,
   "metadata": {
    "execution": {
     "iopub.execute_input": "2023-05-03T19:44:41.148535Z",
     "iopub.status.busy": "2023-05-03T19:44:41.147820Z",
     "iopub.status.idle": "2023-05-03T19:44:41.155226Z",
     "shell.execute_reply": "2023-05-03T19:44:41.153980Z"
    }
   },
   "outputs": [
    {
     "name": "stdout",
     "output_type": "stream",
     "text": [
      "This Cell 2 is executed through terminal from a notebook..\n"
     ]
    }
   ],
   "source": [
    "print(\"This Cell 2 is executed through terminal from a notebook..\")"
   ]
  }
 ],
 "metadata": {
  "kernelspec": {
   "display_name": "torch_1_131",
   "language": "python",
   "name": "python3"
  },
  "language_info": {
   "codemirror_mode": {
    "name": "ipython",
    "version": 3
   },
   "file_extension": ".py",
   "mimetype": "text/x-python",
   "name": "python",
   "nbconvert_exporter": "python",
   "pygments_lexer": "ipython3",
   "version": "3.7.16"
  }
 },
 "nbformat": 4,
 "nbformat_minor": 2
}
