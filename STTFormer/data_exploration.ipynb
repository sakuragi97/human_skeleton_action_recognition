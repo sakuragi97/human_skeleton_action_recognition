{
 "cells": [
  {
   "cell_type": "code",
   "execution_count": 2,
   "metadata": {},
   "outputs": [],
   "source": [
    "import numpy as np\n",
    "import matplotlib.pyplot as plt"
   ]
  },
  {
   "attachments": {},
   "cell_type": "markdown",
   "metadata": {},
   "source": [
    "## Explore data after preprocessing\n",
    "\n",
    "The data has been processed as following:\n",
    "1. From the NTU60 raw data, get the skeleton of each performer using `get_raw_skes_data.py`\n",
    "2. Remove the bad skeleton (denoising) using `get_raw_denoised_data.py`\n",
    "3. Transform the skeleton to the center of the first frame using `seq_transformation.py`"
   ]
  },
  {
   "cell_type": "code",
   "execution_count": 3,
   "metadata": {},
   "outputs": [],
   "source": [
    "# Load the arrays from the .npy file\n",
    "data_xsub = np.load('gendata/ntu/NTU60_XSub.npz')\n",
    "data_xview = np.load('gendata/ntu/NTU60_XView.npz')"
   ]
  },
  {
   "cell_type": "code",
   "execution_count": 4,
   "metadata": {},
   "outputs": [
    {
     "name": "stdout",
     "output_type": "stream",
     "text": [
      "data_xsub.files: ['x_train', 'y_train', 'x_test', 'y_test']\n",
      "data_xview.files: ['x_train', 'y_train', 'x_test', 'y_test']\n"
     ]
    }
   ],
   "source": [
    "# print the arrays saved on the npz archive data\n",
    "print(f\"data_xsub.files: {data_xsub.files}\")\n",
    "print(f\"data_xview.files: {data_xview.files}\")"
   ]
  },
  {
   "cell_type": "code",
   "execution_count": 5,
   "metadata": {},
   "outputs": [
    {
     "name": "stdout",
     "output_type": "stream",
     "text": [
      "X_train size: (40091, 300, 150)\n",
      "y_train size: (40091, 60)\n",
      "X_test size: (16487, 300, 150)\n",
      "y_test size: (16487, 300, 150)\n"
     ]
    }
   ],
   "source": [
    "print(f\"X_train size: {data_xsub['x_train'].shape}\")\n",
    "print(f\"y_train size: {data_xsub['y_train'].shape}\")\n",
    "print(f\"X_test size: {data_xsub['x_test'].shape}\")\n",
    "print(f\"y_test size: {data_xsub['x_test'].shape}\")"
   ]
  },
  {
   "cell_type": "code",
   "execution_count": 6,
   "metadata": {},
   "outputs": [
    {
     "name": "stdout",
     "output_type": "stream",
     "text": [
      "X_train size: (37646, 300, 150)\n",
      "y_train size: (37646, 60)\n",
      "X_test size: (18932, 300, 150)\n",
      "y_test size: (18932, 300, 150)\n",
      "300 represent max frame lengh, and 150 flattened joints as 25x3x2 (#joints*dimenstions*persons)\n"
     ]
    }
   ],
   "source": [
    "print(f\"X_train size: {data_xview['x_train'].shape}\")\n",
    "print(f\"y_train size: {data_xview['y_train'].shape}\")\n",
    "print(f\"X_test size: {data_xview['x_test'].shape}\")\n",
    "print(f\"y_test size: {data_xview['x_test'].shape}\")\n",
    "print(f\"{data_xview['x_train'].shape[1]} represent max frame lengh, and {data_xview['x_train'].shape[2]} flattened joints as 25x3x2 (#joints*dimenstions*persons)\")"
   ]
  },
  {
   "cell_type": "code",
   "execution_count": 7,
   "metadata": {},
   "outputs": [
    {
     "data": {
      "text/plain": [
       "array([[-0.0218464 , -0.25790626,  0.05055881, ...,  0.        ,\n",
       "         0.        ,  0.        ],\n",
       "       [-0.02167402, -0.2581502 ,  0.05247283, ...,  0.        ,\n",
       "         0.        ,  0.        ],\n",
       "       [-0.02127889, -0.2580992 ,  0.0512228 , ...,  0.        ,\n",
       "         0.        ,  0.        ],\n",
       "       ...,\n",
       "       [ 0.        ,  0.        ,  0.        , ...,  0.        ,\n",
       "         0.        ,  0.        ],\n",
       "       [ 0.        ,  0.        ,  0.        , ...,  0.        ,\n",
       "         0.        ,  0.        ],\n",
       "       [ 0.        ,  0.        ,  0.        , ...,  0.        ,\n",
       "         0.        ,  0.        ]], dtype=float32)"
      ]
     },
     "execution_count": 7,
     "metadata": {},
     "output_type": "execute_result"
    }
   ],
   "source": [
    "# Sample from the data\n",
    "data_xview['x_train'][0]"
   ]
  },
  {
   "attachments": {},
   "cell_type": "markdown",
   "metadata": {},
   "source": [
    "## Explore Skeleton joints pickle file\n",
    "\n",
    "Before applying `seq_transformation.py` process"
   ]
  },
  {
   "attachments": {},
   "cell_type": "markdown",
   "metadata": {},
   "source": [
    "#### exploring raw skeleton data from `raw_skes_data.pkl`"
   ]
  },
  {
   "cell_type": "code",
   "execution_count": 8,
   "metadata": {},
   "outputs": [
    {
     "name": "stdout",
     "output_type": "stream",
     "text": [
      "Raw Denoised Joints size: 56578\n"
     ]
    }
   ],
   "source": [
    "import pickle\n",
    "\n",
    "with open('gendata/ntu/raw_data/raw_skes_data.pkl', 'rb') as f:\n",
    "    data_raw_skes = pickle.load(f)\n",
    "\n",
    "print(f\"Raw Denoised Joints size: {len(data_raw_skes)}\")"
   ]
  },
  {
   "cell_type": "code",
   "execution_count": 9,
   "metadata": {},
   "outputs": [
    {
     "name": "stdout",
     "output_type": "stream",
     "text": [
      "Each element from the raw data is dict contains: ['name', 'data', 'num_frames']\n",
      "The data contains a subject ID which contains a dict of: ['joints', 'colors', 'interval']\n",
      "Size of 'joints' values: (2575, 3)\n",
      "Size of 'colors' values: (103, 25, 2)\n"
     ]
    }
   ],
   "source": [
    "print(f\"Each element from the raw data is dict contains: {list(data_raw_skes[0].keys())}\")\n",
    "\n",
    "print(f\"The data contains a subject ID which contains a dict of: {list(data_raw_skes[0]['data']['72057594037931101'].keys())}\")\n",
    "print(f\"Size of 'joints' values: {data_raw_skes[0]['data']['72057594037931101']['joints'].shape}\")\n",
    "print(f\"Size of 'colors' values: {data_raw_skes[0]['data']['72057594037931101']['colors'].shape}\")"
   ]
  },
  {
   "attachments": {},
   "cell_type": "markdown",
   "metadata": {},
   "source": [
    "#### Open raw denoised data"
   ]
  },
  {
   "cell_type": "code",
   "execution_count": 10,
   "metadata": {},
   "outputs": [
    {
     "name": "stdout",
     "output_type": "stream",
     "text": [
      "Raw Denoised Joints size: 56578\n"
     ]
    }
   ],
   "source": [
    "import pickle\n",
    "\n",
    "with open('gendata/ntu/denoised_data/raw_denoised_joints.pkl', 'rb') as f:\n",
    "    data_raw_denoised_joints = pickle.load(f)\n",
    "\n",
    "print(f\"Raw Denoised Joints size: {len(data_raw_denoised_joints)}\")"
   ]
  },
  {
   "cell_type": "code",
   "execution_count": 11,
   "metadata": {},
   "outputs": [
    {
     "name": "stdout",
     "output_type": "stream",
     "text": [
      "Size of a sample from the data: (103, 75)\n",
      "The first field refers to the # of frames: 103\n",
      "The second field refers to skeleton joints: 75\n"
     ]
    }
   ],
   "source": [
    "print(f\"Size of a sample from the data: {data_raw_denoised_joints[0].shape}\")\n",
    "print(f\"The first field refers to the # of frames: {len(data_raw_denoised_joints[0])}\")\n",
    "print(f\"The second field refers to skeleton joints: {len(data_raw_denoised_joints[0][0])}\")"
   ]
  },
  {
   "cell_type": "code",
   "execution_count": 12,
   "metadata": {},
   "outputs": [],
   "source": [
    "from gendata.ntu.seq_transformation import seq_translation\n",
    "\n",
    "skes_joints = seq_translation(data_raw_denoised_joints)\n"
   ]
  },
  {
   "cell_type": "code",
   "execution_count": 13,
   "metadata": {},
   "outputs": [
    {
     "data": {
      "text/plain": [
       "(103, 75)"
      ]
     },
     "execution_count": 13,
     "metadata": {},
     "output_type": "execute_result"
    }
   ],
   "source": [
    "skes_joints[0].shape"
   ]
  },
  {
   "cell_type": "code",
   "execution_count": null,
   "metadata": {},
   "outputs": [],
   "source": []
  }
 ],
 "metadata": {
  "kernelspec": {
   "display_name": "torch_1_131",
   "language": "python",
   "name": "python3"
  },
  "language_info": {
   "codemirror_mode": {
    "name": "ipython",
    "version": 3
   },
   "file_extension": ".py",
   "mimetype": "text/x-python",
   "name": "python",
   "nbconvert_exporter": "python",
   "pygments_lexer": "ipython3",
   "version": "3.7.16"
  },
  "orig_nbformat": 4,
  "vscode": {
   "interpreter": {
    "hash": "1c5d2517a92aae6e3cf818e7acbe53934c0a03cae53f38c1f900f3604cb47d7a"
   }
  }
 },
 "nbformat": 4,
 "nbformat_minor": 2
}
